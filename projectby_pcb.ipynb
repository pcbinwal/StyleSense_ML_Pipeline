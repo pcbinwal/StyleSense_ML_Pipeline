{
 "cells": [
  {
   "cell_type": "markdown",
   "id": "d29c16f6",
   "metadata": {},
   "source": [
    "# StyleSense ML Pipeline Project\n",
    "- Data, available under \"data\" subfolder here, is used to create a machine learning model pipeline.\n",
    "\n",
    "### Aim: Build a ML pipeline to predict whether an item is recommended by a customer based on their review. \n",
    "\n",
    "###### Note the data includes numerical, categorical, and text data. Use the data to properly train and evaluate the model under this project."
   ]
  },
  {
   "cell_type": "markdown",
   "id": "c670646e",
   "metadata": {},
   "source": [
    "#### The Data Explained\n",
    "The dataset has been anonymized and cleaned of missing values.\n",
    "\n",
    "There are 8 features available to use to predict whether a customer recommends or does not recommend a product. The **Recommended IND** column gives whether a customer recommends the product where 1 is recommended and a 0 is not recommended. This is the target for the model. \n",
    "\n",
    "The features in the dataset can be summarized as the following:\n",
    "\n",
    "- **Clothing ID**: Integer Categorical variable that refers to the specific piece being reviewed.\n",
    "- **Age**: Positive Integer variable of the reviewers age.\n",
    "- **Title**: String variable for the title of the review.\n",
    "- **Review Text**: String variable for the review body.\n",
    "- **Positive Feedback Count**: Positive Integer documenting the number of other customers who found this review positive.\n",
    "- **Division Name**: Categorical name of the product high level division.\n",
    "- **Department Name**: Categorical name of the product department name.\n",
    "- **Class Name**: Categorical name of the product class name.\n",
    "\n",
    "#### The target:\n",
    "\n",
    "**Recommended IND**: Binary variable stating where the customer recommends the product where 1 is recommended, 0 is not recommended."
   ]
  },
  {
   "cell_type": "markdown",
   "id": "ee3dd555",
   "metadata": {},
   "source": [
    "#### Sec-1. All Imports Data set loading goes here"
   ]
  },
  {
   "cell_type": "code",
   "execution_count": 305,
   "id": "1048be3d",
   "metadata": {},
   "outputs": [
    {
     "name": "stderr",
     "output_type": "stream",
     "text": [
      "[nltk_data] Downloading package punkt to /home/pcbinwal/nltk_data...\n",
      "[nltk_data]   Package punkt is already up-to-date!\n",
      "[nltk_data] Downloading package wordnet to /home/pcbinwal/nltk_data...\n",
      "[nltk_data]   Package wordnet is already up-to-date!\n",
      "[nltk_data] Downloading package stopwords to\n",
      "[nltk_data]     /home/pcbinwal/nltk_data...\n",
      "[nltk_data]   Package stopwords is already up-to-date!\n",
      "[nltk_data] Downloading package punkt_tab to\n",
      "[nltk_data]     /home/pcbinwal/nltk_data...\n",
      "[nltk_data]   Package punkt_tab is already up-to-date!\n"
     ]
    },
    {
     "data": {
      "text/plain": [
       "True"
      ]
     },
     "execution_count": 305,
     "metadata": {},
     "output_type": "execute_result"
    }
   ],
   "source": [
    "import pandas as pd\n",
    "import numpy as np\n",
    "import re\n",
    "import matplotlib.pyplot as plt\n",
    "%matplotlib inline\n",
    "\n",
    "import nltk\n",
    "from nltk.tokenize import word_tokenize\n",
    "from nltk.stem import WordNetLemmatizer\n",
    "from nltk.corpus import stopwords\n",
    "\n",
    "from sklearn.base import BaseEstimator, TransformerMixin\n",
    "from sklearn.model_selection import train_test_split\n",
    "from sklearn.preprocessing import StandardScaler, MinMaxScaler, OneHotEncoder\n",
    "from sklearn.compose import ColumnTransformer\n",
    "from sklearn.pipeline import Pipeline\n",
    "from sklearn.linear_model import LogisticRegression\n",
    "from sklearn.naive_bayes import MultinomialNB\n",
    "from sklearn.model_selection import GridSearchCV\n",
    "from sklearn.ensemble import RandomForestClassifier,GradientBoostingClassifier\n",
    "from sklearn.feature_extraction.text import TfidfVectorizer\n",
    "from sklearn.metrics import accuracy_score, precision_score, recall_score\n",
    "\n",
    "\n",
    "nltk.download(['punkt', 'wordnet','stopwords','punkt_tab'])\n"
   ]
  },
  {
   "cell_type": "code",
   "execution_count": 306,
   "id": "0c90923c",
   "metadata": {},
   "outputs": [
    {
     "name": "stdout",
     "output_type": "stream",
     "text": [
      "<class 'pandas.core.frame.DataFrame'>\n",
      "RangeIndex: 18442 entries, 0 to 18441\n",
      "Data columns (total 9 columns):\n",
      " #   Column                   Non-Null Count  Dtype \n",
      "---  ------                   --------------  ----- \n",
      " 0   Clothing ID              18442 non-null  int64 \n",
      " 1   Age                      18442 non-null  int64 \n",
      " 2   Title                    18442 non-null  object\n",
      " 3   Review Text              18442 non-null  object\n",
      " 4   Positive Feedback Count  18442 non-null  int64 \n",
      " 5   Division Name            18442 non-null  object\n",
      " 6   Department Name          18442 non-null  object\n",
      " 7   Class Name               18442 non-null  object\n",
      " 8   Recommended IND          18442 non-null  int64 \n",
      "dtypes: int64(4), object(5)\n",
      "memory usage: 1.3+ MB\n",
      "None\n"
     ]
    },
    {
     "data": {
      "text/html": [
       "<div>\n",
       "<style scoped>\n",
       "    .dataframe tbody tr th:only-of-type {\n",
       "        vertical-align: middle;\n",
       "    }\n",
       "\n",
       "    .dataframe tbody tr th {\n",
       "        vertical-align: top;\n",
       "    }\n",
       "\n",
       "    .dataframe thead th {\n",
       "        text-align: right;\n",
       "    }\n",
       "</style>\n",
       "<table border=\"1\" class=\"dataframe\">\n",
       "  <thead>\n",
       "    <tr style=\"text-align: right;\">\n",
       "      <th></th>\n",
       "      <th>Clothing ID</th>\n",
       "      <th>Age</th>\n",
       "      <th>Title</th>\n",
       "      <th>Review Text</th>\n",
       "      <th>Positive Feedback Count</th>\n",
       "      <th>Division Name</th>\n",
       "      <th>Department Name</th>\n",
       "      <th>Class Name</th>\n",
       "      <th>Recommended IND</th>\n",
       "    </tr>\n",
       "  </thead>\n",
       "  <tbody>\n",
       "    <tr>\n",
       "      <th>0</th>\n",
       "      <td>1077</td>\n",
       "      <td>60</td>\n",
       "      <td>Some major design flaws</td>\n",
       "      <td>I had such high hopes for this dress and reall...</td>\n",
       "      <td>0</td>\n",
       "      <td>General</td>\n",
       "      <td>Dresses</td>\n",
       "      <td>Dresses</td>\n",
       "      <td>0</td>\n",
       "    </tr>\n",
       "    <tr>\n",
       "      <th>1</th>\n",
       "      <td>1049</td>\n",
       "      <td>50</td>\n",
       "      <td>My favorite buy!</td>\n",
       "      <td>I love, love, love this jumpsuit. it's fun, fl...</td>\n",
       "      <td>0</td>\n",
       "      <td>General Petite</td>\n",
       "      <td>Bottoms</td>\n",
       "      <td>Pants</td>\n",
       "      <td>1</td>\n",
       "    </tr>\n",
       "  </tbody>\n",
       "</table>\n",
       "</div>"
      ],
      "text/plain": [
       "   Clothing ID  Age                    Title  \\\n",
       "0         1077   60  Some major design flaws   \n",
       "1         1049   50         My favorite buy!   \n",
       "\n",
       "                                         Review Text  Positive Feedback Count  \\\n",
       "0  I had such high hopes for this dress and reall...                        0   \n",
       "1  I love, love, love this jumpsuit. it's fun, fl...                        0   \n",
       "\n",
       "    Division Name Department Name Class Name  Recommended IND  \n",
       "0         General         Dresses    Dresses                0  \n",
       "1  General Petite         Bottoms      Pants                1  "
      ]
     },
     "metadata": {},
     "output_type": "display_data"
    }
   ],
   "source": [
    "# Load data\n",
    "data = pd.read_csv(\n",
    "    'data/reviews.csv',\n",
    ")\n",
    "\n",
    "print(data.info())\n",
    "display(data.head(2))"
   ]
  },
  {
   "cell_type": "markdown",
   "id": "46c22099",
   "metadata": {},
   "source": [
    "##### Aligning the data to make it ready for model "
   ]
  },
  {
   "cell_type": "code",
   "execution_count": 307,
   "id": "b8a1f07c",
   "metadata": {},
   "outputs": [
    {
     "name": "stdout",
     "output_type": "stream",
     "text": [
      "Target Labels: [0 1]\n",
      "Features: Index(['Clothing ID', 'Age', 'Title', 'Review Text', 'Positive Feedback Count',\n",
      "       'Division Name', 'Department Name', 'Class Name'],\n",
      "      dtype='object')\n"
     ]
    }
   ],
   "source": [
    "### Separation of Features(X) and Target (Y) from the dataset\n",
    "X = data.drop('Recommended IND', axis=1)\n",
    "y = data['Recommended IND'].copy()\n",
    "\n",
    "print('Target Labels:', y.unique())\n",
    "print('Features:', X.columns)\n",
    "# X = X.drop(\"Clothing ID\",axis=1,inplace=True)"
   ]
  },
  {
   "cell_type": "markdown",
   "id": "34e19dad",
   "metadata": {},
   "source": [
    "##### Train Test split of dataset using \"train_test_split\" API from \"sklearn.model_selection\""
   ]
  },
  {
   "cell_type": "code",
   "execution_count": 308,
   "id": "082d4678",
   "metadata": {},
   "outputs": [
    {
     "name": "stdout",
     "output_type": "stream",
     "text": [
      "Train: (14753, 8),(14753,)\t Test: (3689, 8),(3689,)\n"
     ]
    }
   ],
   "source": [
    "# Split data into train and test sets\n",
    "X_train, X_test, y_train, y_test = train_test_split(\n",
    "    X,y,\n",
    "    test_size=0.20,\n",
    "    shuffle=True,\n",
    "    random_state=42,\n",
    ")\n",
    "print(f\"Train: {X_train.shape},{y_train.shape}\\t Test: {X_test.shape},{y_test.shape}\")"
   ]
  },
  {
   "cell_type": "markdown",
   "id": "49f29081",
   "metadata": {},
   "source": [
    "#### Sec-2: Data Exploration (EDA)"
   ]
  },
  {
   "cell_type": "code",
   "execution_count": 309,
   "id": "49d927d2",
   "metadata": {},
   "outputs": [
    {
     "name": "stdout",
     "output_type": "stream",
     "text": [
      "<class 'pandas.core.frame.DataFrame'>\n",
      "RangeIndex: 18442 entries, 0 to 18441\n",
      "Data columns (total 8 columns):\n",
      " #   Column                   Non-Null Count  Dtype \n",
      "---  ------                   --------------  ----- \n",
      " 0   Clothing ID              18442 non-null  int64 \n",
      " 1   Age                      18442 non-null  int64 \n",
      " 2   Title                    18442 non-null  object\n",
      " 3   Review Text              18442 non-null  object\n",
      " 4   Positive Feedback Count  18442 non-null  int64 \n",
      " 5   Division Name            18442 non-null  object\n",
      " 6   Department Name          18442 non-null  object\n",
      " 7   Class Name               18442 non-null  object\n",
      "dtypes: int64(3), object(5)\n",
      "memory usage: 1.1+ MB\n"
     ]
    }
   ],
   "source": [
    "X.info()"
   ]
  },
  {
   "cell_type": "code",
   "execution_count": 310,
   "id": "f5d9d21d",
   "metadata": {},
   "outputs": [
    {
     "data": {
      "text/plain": [
       "0        I had such high hopes for this dress and reall...\n",
       "1        I love, love, love this jumpsuit. it's fun, fl...\n",
       "2        This shirt is very flattering to all due to th...\n",
       "3        I love tracy reese dresses, but this one is no...\n",
       "4        I aded this in my basket at hte last mintue to...\n",
       "                               ...                        \n",
       "18437    I was very happy to snag this dress at such a ...\n",
       "18438    It reminds me of maternity clothes. soft, stre...\n",
       "18439    This fit well, but the top was very see throug...\n",
       "18440    I bought this dress for a wedding i have this ...\n",
       "18441    This dress in a lovely platinum is feminine an...\n",
       "Name: Review Text, Length: 18442, dtype: object"
      ]
     },
     "execution_count": 310,
     "metadata": {},
     "output_type": "execute_result"
    }
   ],
   "source": [
    "X[\"Review Text\"]"
   ]
  },
  {
   "cell_type": "code",
   "execution_count": 311,
   "id": "26646bee",
   "metadata": {},
   "outputs": [
    {
     "name": "stdout",
     "output_type": "stream",
     "text": [
      "Num ['Clothing ID', 'Age', 'Positive Feedback Count']\n",
      "Cat ['Title', 'Division Name', 'Department Name', 'Class Name']\n",
      "Text Review Text\n"
     ]
    }
   ],
   "source": [
    "### Separating num, cat and text features \n",
    "# Separate numeric and categorical features\n",
    "num_X = X.select_dtypes(include=\"int64\").columns.tolist()\n",
    "cat_X = X.select_dtypes(exclude=np.number).columns.tolist()\n",
    "cat_X.remove('Review Text')\n",
    "text_X = 'Review Text'\n",
    "for gname, gval in zip([\"Num\",\"Cat\",\"Text\"],[num_X,cat_X,text_X]):\n",
    "    print(gname, gval)\n"
   ]
  },
  {
   "cell_type": "code",
   "execution_count": 312,
   "id": "f6e15ebc",
   "metadata": {},
   "outputs": [
    {
     "data": {
      "text/html": [
       "<div>\n",
       "<style scoped>\n",
       "    .dataframe tbody tr th:only-of-type {\n",
       "        vertical-align: middle;\n",
       "    }\n",
       "\n",
       "    .dataframe tbody tr th {\n",
       "        vertical-align: top;\n",
       "    }\n",
       "\n",
       "    .dataframe thead th {\n",
       "        text-align: right;\n",
       "    }\n",
       "</style>\n",
       "<table border=\"1\" class=\"dataframe\">\n",
       "  <thead>\n",
       "    <tr style=\"text-align: right;\">\n",
       "      <th></th>\n",
       "      <th>Clothing ID</th>\n",
       "      <th>Age</th>\n",
       "      <th>Positive Feedback Count</th>\n",
       "    </tr>\n",
       "  </thead>\n",
       "  <tbody>\n",
       "    <tr>\n",
       "      <th>count</th>\n",
       "      <td>18442.000000</td>\n",
       "      <td>18442.000000</td>\n",
       "      <td>18442.000000</td>\n",
       "    </tr>\n",
       "    <tr>\n",
       "      <th>mean</th>\n",
       "      <td>954.896757</td>\n",
       "      <td>43.383635</td>\n",
       "      <td>2.697484</td>\n",
       "    </tr>\n",
       "    <tr>\n",
       "      <th>std</th>\n",
       "      <td>141.571783</td>\n",
       "      <td>12.246264</td>\n",
       "      <td>5.942220</td>\n",
       "    </tr>\n",
       "    <tr>\n",
       "      <th>min</th>\n",
       "      <td>2.000000</td>\n",
       "      <td>18.000000</td>\n",
       "      <td>0.000000</td>\n",
       "    </tr>\n",
       "    <tr>\n",
       "      <th>50%</th>\n",
       "      <td>952.000000</td>\n",
       "      <td>41.000000</td>\n",
       "      <td>1.000000</td>\n",
       "    </tr>\n",
       "    <tr>\n",
       "      <th>60%</th>\n",
       "      <td>1030.000000</td>\n",
       "      <td>45.000000</td>\n",
       "      <td>1.000000</td>\n",
       "    </tr>\n",
       "    <tr>\n",
       "      <th>70%</th>\n",
       "      <td>1074.000000</td>\n",
       "      <td>49.000000</td>\n",
       "      <td>2.000000</td>\n",
       "    </tr>\n",
       "    <tr>\n",
       "      <th>90%</th>\n",
       "      <td>1094.000000</td>\n",
       "      <td>61.000000</td>\n",
       "      <td>7.000000</td>\n",
       "    </tr>\n",
       "    <tr>\n",
       "      <th>95%</th>\n",
       "      <td>1107.000000</td>\n",
       "      <td>66.000000</td>\n",
       "      <td>12.000000</td>\n",
       "    </tr>\n",
       "    <tr>\n",
       "      <th>max</th>\n",
       "      <td>1205.000000</td>\n",
       "      <td>99.000000</td>\n",
       "      <td>122.000000</td>\n",
       "    </tr>\n",
       "  </tbody>\n",
       "</table>\n",
       "</div>"
      ],
      "text/plain": [
       "        Clothing ID           Age  Positive Feedback Count\n",
       "count  18442.000000  18442.000000             18442.000000\n",
       "mean     954.896757     43.383635                 2.697484\n",
       "std      141.571783     12.246264                 5.942220\n",
       "min        2.000000     18.000000                 0.000000\n",
       "50%      952.000000     41.000000                 1.000000\n",
       "60%     1030.000000     45.000000                 1.000000\n",
       "70%     1074.000000     49.000000                 2.000000\n",
       "90%     1094.000000     61.000000                 7.000000\n",
       "95%     1107.000000     66.000000                12.000000\n",
       "max     1205.000000     99.000000               122.000000"
      ]
     },
     "execution_count": 312,
     "metadata": {},
     "output_type": "execute_result"
    }
   ],
   "source": [
    "X.describe(percentiles=[0.5, 0.6, 0.7, 0.9, 0.95])"
   ]
  },
  {
   "cell_type": "markdown",
   "id": "f65e49b8",
   "metadata": {},
   "source": [
    "##### Data has following properties: \n",
    "```\n",
    "X: \n",
    "- Three Numeric fields (Int)\n",
    "    - One ID field (Int) \n",
    "- Four Categorical Fields  \n",
    "Y: \n",
    "- Binary class with \n",
    "    - 1: Recommended \n",
    "    - 0: Not recommended\n",
    "```\n",
    "##### None of trhe feature contains null values.\n",
    "\n",
    "- Histogram tell that both numeric fields has left squeezed distribution. \n",
    "- Age indicates more mean value of 41 with 70% less than 50 years of age.\n",
    "- Average Positive feedbacks are single ... though max feedback count is 122 but 95th percentime also have just 12 feedbacks. Beyond 95 percentile numbers are outliers. "
   ]
  },
  {
   "cell_type": "code",
   "execution_count": 313,
   "id": "1c6312f5",
   "metadata": {},
   "outputs": [
    {
     "data": {
      "image/png": "[encoded data removed]",
      "text/plain": [
       "<Figure size 640x480 with 4 Axes>"
      ]
     },
     "metadata": {},
     "output_type": "display_data"
    }
   ],
   "source": [
    "X.hist();"
   ]
  },
  {
   "cell_type": "markdown",
   "id": "db262b58",
   "metadata": {},
   "source": [
    "##### Target(y):\n",
    "Target value is unbalances: 82% Recommended and 18% not recommended. \n"
   ]
  },
  {
   "cell_type": "code",
   "execution_count": 314,
   "id": "280e19f6",
   "metadata": {},
   "outputs": [
    {
     "data": {
      "text/plain": [
       "Recommended IND\n",
       "1    0.816235\n",
       "0    0.183765\n",
       "Name: count, dtype: float64"
      ]
     },
     "execution_count": 314,
     "metadata": {},
     "output_type": "execute_result"
    }
   ],
   "source": [
    "y.value_counts()/y.count()"
   ]
  },
  {
   "cell_type": "code",
   "execution_count": 315,
   "id": "b8b0eee3",
   "metadata": {},
   "outputs": [
    {
     "data": {
      "text/html": [
       "<div>\n",
       "<style scoped>\n",
       "    .dataframe tbody tr th:only-of-type {\n",
       "        vertical-align: middle;\n",
       "    }\n",
       "\n",
       "    .dataframe tbody tr th {\n",
       "        vertical-align: top;\n",
       "    }\n",
       "\n",
       "    .dataframe thead th {\n",
       "        text-align: right;\n",
       "    }\n",
       "</style>\n",
       "<table border=\"1\" class=\"dataframe\">\n",
       "  <thead>\n",
       "    <tr style=\"text-align: right;\">\n",
       "      <th></th>\n",
       "      <th>Age</th>\n",
       "      <th>Positive Feedback Count</th>\n",
       "      <th>Recommended IND</th>\n",
       "    </tr>\n",
       "  </thead>\n",
       "  <tbody>\n",
       "    <tr>\n",
       "      <th>Age</th>\n",
       "      <td>1.000000</td>\n",
       "      <td>0.039429</td>\n",
       "      <td>0.036656</td>\n",
       "    </tr>\n",
       "    <tr>\n",
       "      <th>Positive Feedback Count</th>\n",
       "      <td>0.039429</td>\n",
       "      <td>1.000000</td>\n",
       "      <td>-0.058392</td>\n",
       "    </tr>\n",
       "    <tr>\n",
       "      <th>Recommended IND</th>\n",
       "      <td>0.036656</td>\n",
       "      <td>-0.058392</td>\n",
       "      <td>1.000000</td>\n",
       "    </tr>\n",
       "  </tbody>\n",
       "</table>\n",
       "</div>"
      ],
      "text/plain": [
       "                              Age  Positive Feedback Count  Recommended IND\n",
       "Age                      1.000000                 0.039429         0.036656\n",
       "Positive Feedback Count  0.039429                 1.000000        -0.058392\n",
       "Recommended IND          0.036656                -0.058392         1.000000"
      ]
     },
     "execution_count": 315,
     "metadata": {},
     "output_type": "execute_result"
    }
   ],
   "source": [
    "data[['Age', 'Positive Feedback Count',\"Recommended IND\"]].corr()"
   ]
  },
  {
   "cell_type": "code",
   "execution_count": 316,
   "id": "ab1ff2d6",
   "metadata": {},
   "outputs": [
    {
     "data": {
      "text/plain": [
       "np.int64(0)"
      ]
     },
     "execution_count": 316,
     "metadata": {},
     "output_type": "execute_result"
    }
   ],
   "source": [
    "data.duplicated().sum()"
   ]
  },
  {
   "cell_type": "markdown",
   "id": "5eedd082",
   "metadata": {},
   "source": [
    "##### Other Explorations\n",
    "- There is no significant correlation among numerical features and the target\n",
    "- There are no duplicates in the data\n"
   ]
  },
  {
   "cell_type": "markdown",
   "id": "12561787",
   "metadata": {},
   "source": [
    "### Sec-3: Crafting the ML Pipeline\n",
    "- Handling Num datatype\n",
    "- Handling Cat datatype\n",
    "- Handling the review_text field"
   ]
  },
  {
   "cell_type": "code",
   "execution_count": 317,
   "id": "5dfd8738",
   "metadata": {},
   "outputs": [],
   "source": [
    "class NLTKPreprocessor(BaseEstimator, TransformerMixin):\n",
    "    def __init__(self):\n",
    "        # Initialize NLTK tools\n",
    "        self.lemmatizer = WordNetLemmatizer()\n",
    "        self.stopwords = list(stopwords.words('english'))\n",
    "\n",
    "    def fit(self, X, y=None):\n",
    "        return self\n",
    "\n",
    "    def transform(self, X):\n",
    "        return [self._preprocess(text) for text in X]\n",
    "\n",
    "    def _preprocess(self, text):\n",
    "        # Lowercase the text\n",
    "        text = text.lower()\n",
    "        # Remove special characters and numbers\n",
    "        text = re.sub(r'[^a-zA-Z\\s]', '', text)\n",
    "        # Tokenize\n",
    "        tokens = word_tokenize(text)\n",
    "        # Remove stopwords and lemmatize\n",
    "        processed_tokens = [\n",
    "            self.lemmatizer.lemmatize(token)\n",
    "            for token in tokens\n",
    "            if token not in self.stopwords\n",
    "        ]\n",
    "        # Join tokens back into a string\n",
    "        return ' '.join(processed_tokens)\n",
    "\n",
    "# def get_tokenize(ptext):\n",
    "#     \"\"\"\n",
    "#     Function to tokenize text given as input string.\n",
    "#     Following actions are taken: \n",
    "#     - tokenize\n",
    "#     - filter for stop words and non english words\n",
    "#     - lemmatize (Instead of stemming)\n",
    "#     \"\"\"\n",
    "    \n",
    "#     tokens = word_tokenize(ptext.lower())\n",
    "#     stop_words = set(stopwords.words('english'))\n",
    "#     filtered = [w for w in tokens if w.isalpha() and w not in stop_words]\n",
    "\n",
    "#     lemmatizer = WordNetLemmatizer()\n",
    "    \n",
    "#     clean_tokens=[]\n",
    "#     for tok in filtered:\n",
    "#         clean_tok = lemmatizer.lemmatize(tok).lower().strip()\n",
    "#         clean_tokens.append(clean_tok)\n",
    "    \n",
    "#     tokenized_string = ' '.join(clean_tokens)\n",
    "\n",
    "#     return tokenized_string\n"
   ]
  },
  {
   "cell_type": "code",
   "execution_count": 318,
   "id": "a7fd13bd",
   "metadata": {},
   "outputs": [],
   "source": [
    "# Create preprocessing pipelines for each datatype \n",
    "numerical_transformer = Pipeline([('scaler', MinMaxScaler())])\n",
    "categorical_transformer = Pipeline([('encoder', OneHotEncoder(handle_unknown='ignore'))])\n",
    "# For text data, use TF-IDF vectorizer\n",
    "# text_transformer = Pipeline([('tfidf', TfidfVectorizer())])\n",
    "text_transformer = Pipeline([\n",
    "    # ('nltk_preprocessor', NLTKPreprocessor()),\n",
    "    ('tfidf_vectorizer', TfidfVectorizer())\n",
    "])\n",
    "\n",
    "# Combine three column transformations defined for Num, Cat and Text   \n",
    "preprocessor = ColumnTransformer([\n",
    "        ('num', numerical_transformer, num_X),\n",
    "        ('cat', categorical_transformer, cat_X),\n",
    "        ('text', text_transformer, text_X)\n",
    "    ])\n",
    "\n",
    "## Creating Final Pipeline combining Preprocessing and modelling\n",
    "# The pipeline will first preprocess the data and then fit the model\n",
    "# Using Naive Bayes classifier, which works well with TF-IDF features\n",
    "final_model_1 = Pipeline(steps=[('preprocessor', preprocessor),\n",
    "                        ('classifier', MultinomialNB())])\n",
    "\n",
    "final_model_2 = Pipeline([\n",
    "    ('preprocessor', preprocessor),\n",
    "    ('classifier', LogisticRegression(solver='liblinear'))\n",
    "    ])\n",
    "\n",
    "final_model_3 = Pipeline([\n",
    "    ('preprocessor', preprocessor),\n",
    "    ('classifier', RandomForestClassifier(n_estimators=25, random_state=42))\n",
    "    ])\n",
    "final_model_4 = Pipeline([\n",
    "    ('preprocessor', preprocessor),\n",
    "    ('classifier', GradientBoostingClassifier(n_estimators=100, learning_rate=0.1, random_state=42))\n",
    "    ])\n"
   ]
  },
  {
   "cell_type": "markdown",
   "id": "ddd49544",
   "metadata": {},
   "source": [
    "### Sec-4: Model Validation and Observations"
   ]
  },
  {
   "cell_type": "code",
   "execution_count": 319,
   "id": "d68a75c6",
   "metadata": {},
   "outputs": [
    {
     "name": "stdout",
     "output_type": "stream",
     "text": [
      "Baseline Accuracy was: 81.62%\n",
      "Model-->Naive Bayes\n",
      "\tTrain Dataset:\tModel Accuracy: 83.42% (Precison:83.13% Recall:100.00%)\n",
      "\tTest Dataset:\tModel Accuracy: 81.73% (Precison:81.64% Recall:100.00%)\n",
      "Model-->Logistic Regression\n",
      "\tTrain Dataset:\tModel Accuracy: 94.53% (Precison:94.59% Recall:98.97%)\n",
      "\tTest Dataset:\tModel Accuracy: 88.56% (Precison:90.22% Recall:96.36%)\n",
      "Model-->RandomForest\n",
      "\tTrain Dataset:\tModel Accuracy: 99.86% (Precison:99.83% Recall:100.00%)\n",
      "\tTest Dataset:\tModel Accuracy: 82.98% (Precison:83.02% Recall:99.37%)\n",
      "Model-->GradientBoosting\n",
      "\tTrain Dataset:\tModel Accuracy: 87.98% (Precison:87.91% Recall:98.89%)\n",
      "\tTest Dataset:\tModel Accuracy: 85.52% (Precison:86.51% Recall:97.36%)\n"
     ]
    }
   ],
   "source": [
    "print(f\"Baseline Accuracy was: {y[y==1].count()/y.count()*100:.2f}%\")\n",
    "\n",
    "def fit_validate(name,final_model):\n",
    "    print(f\"Model-->{name}\")\n",
    "    # Train the model\n",
    "    final_model.fit(X_train, y_train)\n",
    "\n",
    "    # Make predictions on the train set\n",
    "    y_pred_train = final_model.predict(X_train)\n",
    "\n",
    "    # Make predictions on the test set\n",
    "    y_pred_test = final_model.predict(X_test)\n",
    "\n",
    "    # Evaluate the model using metrics \"accuracy_score\"\n",
    "    for act, pred, name in zip([y_train,y_test],[y_pred_train,y_pred_test],[\"Train\",\"Test\"]):\n",
    "        accuracy = accuracy_score(act, pred)\n",
    "        precision = precision_score(act, pred)\n",
    "        recall = recall_score(act,pred)\n",
    "        print(f\"\\t{name} Dataset:\\tModel Accuracy: {accuracy*100:.2f}% (Precison:{precision*100:.2f}% Recall:{recall*100:.2f}%)\")\n",
    "    \n",
    "fit_validate(\"Naive Bayes\", final_model_1)\n",
    "fit_validate(\"Logistic Regression\", final_model_2)\n",
    "fit_validate(\"RandomForest\", final_model_3)\n",
    "fit_validate(\"GradientBoosting\", final_model_4)"
   ]
  },
  {
   "cell_type": "markdown",
   "id": "d9d150c3",
   "metadata": {},
   "source": [
    "Observations: \n",
    "- Multinomial Naive Bayes: Model worked well no evident overfitting \n",
    "- Logistic Regression: Model has improved accuracy but was overfilling by ~6%\n",
    "- Random Forest: Again this Model also was overfitting hugely \n",
    "- **GradientBoosting: This model gave good results, improved performance and  overfilling down to ~2.5%** "
   ]
  },
  {
   "cell_type": "markdown",
   "id": "60f77f34",
   "metadata": {},
   "source": [
    "### Sec-5: Model finetuning and Observations"
   ]
  },
  {
   "cell_type": "code",
   "execution_count": 320,
   "id": "df94a5a3",
   "metadata": {},
   "outputs": [],
   "source": [
    "#### Fine tuning Model Pipeline\n",
    "\n",
    "def fine_tune(model, param_grid):\n",
    "    '''\n",
    "    This function will take model and param_grid as input\n",
    "    Use GridSeaerchCV to get the best parameters and best estimator.\n",
    "    Returns the best_estimator object. \n",
    "    '''\n",
    "    # Create a GridSearchCV object\n",
    "    grid_search = GridSearchCV(\n",
    "        estimator=model,        # The pipeline to tune\n",
    "        param_grid=param_grid,  # The parameter grid\n",
    "        cv=3,                   # Number of cross-validation folds\n",
    "        n_jobs=-1,              # Use all available CPU cores\n",
    "        scoring='accuracy',     # Evaluation metric\n",
    "        verbose=1               # Provides progress updates\n",
    "    )\n",
    "\n",
    "# Fit GridSearchCV to the training data\n",
    "    grid_search.fit(X_train, y_train)\n",
    "    print(f\"Best parameters: {grid_search.best_params_}\")\n",
    "    print(f\"Best cross-validation score: {grid_search.best_score_:.4f}\")\n",
    "\n",
    "    # Use the best model to make predictions on the test set\n",
    "    return grid_search.best_estimator_\n"
   ]
  },
  {
   "cell_type": "code",
   "execution_count": 323,
   "id": "19ffb314",
   "metadata": {},
   "outputs": [
    {
     "name": "stdout",
     "output_type": "stream",
     "text": [
      "Model-->MultinomialNB\n",
      "\tTrain Dataset:\tModel Accuracy: 83.42% (Precison:83.13% Recall:100.00%)\n",
      "\tTest Dataset:\tModel Accuracy: 81.73% (Precison:81.64% Recall:100.00%)\n",
      "Fine Tunning .............\n",
      "Fitting 3 folds for each of 5 candidates, totalling 15 fits\n",
      "Best parameters: {'classifier__alpha': 0.01}\n",
      "Best cross-validation score: 0.8699\n",
      "Model-->MultinomialNB (Finetuned)\n",
      "\tTrain Dataset:\tModel Accuracy: 99.11% (Precison:99.72% Recall:99.19%)\n",
      "\tTest Dataset:\tModel Accuracy: 86.93% (Precison:88.16% Recall:96.93%)\n"
     ]
    }
   ],
   "source": [
    "select_model=[\"MultinomialNB\", final_model_1,\n",
    "    {\n",
    "    'classifier__alpha': [0.01, 0.1, 0.5, 1.0, 10.0]\n",
    "}\n",
    "]\n",
    "\n",
    "fit_validate(select_model[0], select_model[1])\n",
    "print(\"Fine Tunning .............\")\n",
    "fit_validate(select_model[0]+\" (Finetuned)\",fine_tune(select_model[1],select_model[2]))\n"
   ]
  },
  {
   "cell_type": "code",
   "execution_count": 321,
   "id": "320e81c5",
   "metadata": {},
   "outputs": [
    {
     "name": "stdout",
     "output_type": "stream",
     "text": [
      "Model-->LogisticRegression\n",
      "\tTrain Dataset:\tModel Accuracy: 94.53% (Precison:94.59% Recall:98.97%)\n",
      "\tTest Dataset:\tModel Accuracy: 88.56% (Precison:90.22% Recall:96.36%)\n",
      "Fine Tunning .............\n",
      "Fitting 3 folds for each of 10 candidates, totalling 30 fits\n",
      "Best parameters: {'classifier__C': 10, 'classifier__penalty': 'l2', 'classifier__solver': 'liblinear'}\n",
      "Best cross-validation score: 0.8915\n",
      "Model-->LogisticRegression (Finetuned)\n",
      "\tTrain Dataset:\tModel Accuracy: 99.76% (Precison:99.83% Recall:99.88%)\n",
      "\tTest Dataset:\tModel Accuracy: 89.29% (Precison:91.51% Recall:95.70%)\n"
     ]
    }
   ],
   "source": [
    "select_model=[\"LogisticRegression\", final_model_2,\n",
    "    {\n",
    "    'classifier__C': [0.01, 0.1, 1, 10, 100],\n",
    "    'classifier__penalty': ['l1', 'l2'],\n",
    "    'classifier__solver': ['liblinear']\n",
    "}\n",
    "]\n",
    "\n",
    "fit_validate(select_model[0], select_model[1])\n",
    "print(\"Fine Tunning .............\")\n",
    "fit_validate(select_model[0]+\" (Finetuned)\",fine_tune(select_model[1],select_model[2]))\n"
   ]
  },
  {
   "cell_type": "code",
   "execution_count": 322,
   "id": "954df72e",
   "metadata": {},
   "outputs": [
    {
     "name": "stdout",
     "output_type": "stream",
     "text": [
      "Model-->RandomForest\n",
      "\tTrain Dataset:\tModel Accuracy: 99.86% (Precison:99.83% Recall:100.00%)\n",
      "\tTest Dataset:\tModel Accuracy: 82.98% (Precison:83.02% Recall:99.37%)\n",
      "Fine Tunning .............\n",
      "Fitting 3 folds for each of 27 candidates, totalling 81 fits\n",
      "Best parameters: {'classifier__max_depth': None, 'classifier__min_samples_leaf': 1, 'classifier__n_estimators': 10}\n",
      "Best cross-validation score: 0.8414\n",
      "Model-->RandomForest (Finetuned)\n",
      "\tTrain Dataset:\tModel Accuracy: 99.37% (Precison:99.29% Recall:99.94%)\n",
      "\tTest Dataset:\tModel Accuracy: 84.03% (Precison:84.88% Recall:97.76%)\n"
     ]
    }
   ],
   "source": [
    "select_model=[\"RandomForest\", final_model_3,\n",
    "    {\n",
    "    'classifier__n_estimators': [10, 25, 50],\n",
    "    'classifier__max_depth': [10, 20, None], # None means nodes are expanded until all leaves are pure\n",
    "    'classifier__min_samples_leaf': [1,3,5],\n",
    "    # 'classifier__max_features': [1.0]\n",
    "    # 'classifier__max_features': ['sqrt', 'log2', 1.0]\n",
    "}\n",
    "]\n",
    "fit_validate(select_model[0], select_model[1])\n",
    "print(\"Fine Tunning .............\")\n",
    "fit_validate(select_model[0]+\" (Finetuned)\",fine_tune(select_model[1],select_model[2]))\n"
   ]
  },
  {
   "cell_type": "code",
   "execution_count": 324,
   "id": "7cbbd93e",
   "metadata": {},
   "outputs": [
    {
     "name": "stdout",
     "output_type": "stream",
     "text": [
      "Model-->GradientBoosting\n",
      "\tTrain Dataset:\tModel Accuracy: 87.98% (Precison:87.91% Recall:98.89%)\n",
      "\tTest Dataset:\tModel Accuracy: 85.52% (Precison:86.51% Recall:97.36%)\n",
      "Fine Tunning .............\n",
      "Fitting 3 folds for each of 27 candidates, totalling 81 fits\n",
      "Best parameters: {'classifier__learning_rate': 0.2, 'classifier__max_depth': 5, 'classifier__n_estimators': 100}\n",
      "Best cross-validation score: 0.8685\n",
      "Model-->GradientBoosting (Finetuned)\n",
      "\tTrain Dataset:\tModel Accuracy: 94.41% (Precison:94.13% Recall:99.35%)\n",
      "\tTest Dataset:\tModel Accuracy: 86.69% (Precison:88.34% Recall:96.33%)\n"
     ]
    }
   ],
   "source": [
    "select_model=[\"GradientBoosting\", final_model_4,\n",
    "    {\n",
    "    'classifier__n_estimators': [25, 50, 100],\n",
    "    'classifier__learning_rate': [0.01, 0.2, 0.5],\n",
    "    'classifier__max_depth': [3, 5, 7]\n",
    "    }\n",
    "]\n",
    "\n",
    "fit_validate(select_model[0], select_model[1])\n",
    "print(\"Fine Tunning .............\")\n",
    "fit_validate(select_model[0]+\" (Finetuned)\",fine_tune(select_model[1],select_model[2]))\n"
   ]
  },
  {
   "cell_type": "markdown",
   "id": "dc24776d",
   "metadata": {},
   "source": [
    "Finetuning Results:\n",
    "- **MultinomialNB model**, results are improved significantly but overfitting has also increased.  \n",
    "- **Logistic Regression model**, results were slightly improved, but model is still overfitting by 10%\n",
    "- **RandomForest model**, results are slightly improved  and still overfitting. \n",
    "- **GradientBoosting model**, results significantly improved but now overfitting by 8% \n"
   ]
  }
 ],
 "metadata": {
  "kernelspec": {
   "display_name": ".env",
   "language": "python",
   "name": "python3"
  },
  "language_info": {
   "codemirror_mode": {
    "name": "ipython",
    "version": 3
   },
   "file_extension": ".py",
   "mimetype": "text/x-python",
   "name": "python",
   "nbconvert_exporter": "python",
   "pygments_lexer": "ipython3",
   "version": "3.12.3"
  }
 },
 "nbformat": 4,
 "nbformat_minor": 5
}
